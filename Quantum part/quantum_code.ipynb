{
 "cells": [
  {
   "cell_type": "code",
   "execution_count": 1,
   "id": "0afbe917",
   "metadata": {},
   "outputs": [],
   "source": [
    "from qboard import Solver\n",
    "\n",
    "%matplotlib inline\n",
    "from pyqubo import Array, Placeholder, Constraint\n",
    "from pyqubo import Spin\n",
    "\n",
    "# useful additional packages\n",
    "import matplotlib.pyplot as plt\n",
    "import matplotlib.axes as axes\n",
    "import numpy as np\n",
    "import networkx as nx\n",
    "import retworkx as rx"
   ]
  },
  {
   "cell_type": "code",
   "execution_count": 2,
   "id": "2edab172",
   "metadata": {},
   "outputs": [],
   "source": [
    "mode = \"remote:simcim\"\n",
    "#mode = \"remote:dwave\"\n",
    "\n",
    "# Access parameters\n",
    "PARAMS = {\n",
    "\"remote_addr\": \"https://remote.qboard.tech\", \n",
    "\"access_key\": \"b229d784-53e5-41e0-98c3-0aeea3c76a51\"\n",
    "}\n",
    "\n",
    "# Solver initialization\n",
    "s = Solver(mode=\"remote:gurobi\", params=PARAMS) "
   ]
  },
  {
   "cell_type": "code",
   "execution_count": 3,
   "id": "ba2c8db2",
   "metadata": {},
   "outputs": [
    {
     "data": {
      "image/png": "[encoded data removed]",
      "text/plain": [
       "<Figure size 432x288 with 1 Axes>"
      ]
     },
     "metadata": {},
     "output_type": "display_data"
    }
   ],
   "source": [
    "n=5 # Количество вершин\n",
    "# Создаем граф:\n",
    "G=nx.Graph()\n",
    "G.add_nodes_from(np.arange(0,n,1))\n",
    "\n",
    "# Список вершин графа, где (вершина1, вершина2, время пути между вершинами):\n",
    "elist=[(0,1,15.0),(1,2,3.0),(2,3,3.0),(3,4,12.0),(4,0,17.0)]\n",
    "# Заполняем граф:\n",
    "G.add_weighted_edges_from(elist)\n",
    "\n",
    "# Рисуем граф:\n",
    "colors = ['r' for node in G.nodes()]\n",
    "pos = nx.spring_layout(G)\n",
    "\n",
    "def draw_graph(G, colors, pos):\n",
    "    default_axes = plt.axes(frameon=True)\n",
    "    nx.draw_networkx(G, node_color=colors, node_size=600, alpha=.8, ax=default_axes, pos=pos)\n",
    "    edge_labels = nx.get_edge_attributes(G, 'weight')\n",
    "    nx.draw_networkx_edge_labels(G, pos=pos, edge_labels=edge_labels)\n",
    "\n",
    "draw_graph(G, colors, pos)"
   ]
  },
  {
   "cell_type": "code",
   "execution_count": 4,
   "id": "bbc96dd6",
   "metadata": {},
   "outputs": [
    {
     "name": "stdout",
     "output_type": "stream",
     "text": [
      "[[ 0. 15.  0.  0. 17.]\n",
      " [15.  0.  3.  0.  0.]\n",
      " [ 0.  3.  0.  3.  0.]\n",
      " [ 0.  0.  3.  0. 12.]\n",
      " [17.  0.  0. 12.  0.]]\n"
     ]
    }
   ],
   "source": [
    "# Создаем матрицу смежности:\n",
    "w = np.zeros([n,n])\n",
    "for i in range(n):\n",
    "    for j in range(n):\n",
    "        temp = G.get_edge_data(i,j,default=0)\n",
    "        if temp != 0:\n",
    "            w[i,j] = temp['weight']\n",
    "print(w)"
   ]
  },
  {
   "cell_type": "code",
   "execution_count": 5,
   "id": "55119502",
   "metadata": {},
   "outputs": [
    {
     "name": "stdout",
     "output_type": "stream",
     "text": [
      "case = [0, 0, 0, 0, 0] cost = 0.0\n",
      "case = [1, 0, 0, 0, 0] cost = 32.0\n",
      "case = [0, 1, 0, 0, 0] cost = 18.0\n",
      "case = [1, 1, 0, 0, 0] cost = 20.0\n",
      "case = [0, 0, 1, 0, 0] cost = 6.0\n",
      "case = [1, 0, 1, 0, 0] cost = 38.0\n",
      "case = [0, 1, 1, 0, 0] cost = 18.0\n",
      "case = [1, 1, 1, 0, 0] cost = 20.0\n",
      "case = [0, 0, 0, 1, 0] cost = 15.0\n",
      "case = [1, 0, 0, 1, 0] cost = 47.0\n",
      "case = [0, 1, 0, 1, 0] cost = 33.0\n",
      "case = [1, 1, 0, 1, 0] cost = 35.0\n",
      "case = [0, 0, 1, 1, 0] cost = 15.0\n",
      "case = [1, 0, 1, 1, 0] cost = 47.0\n",
      "case = [0, 1, 1, 1, 0] cost = 27.0\n",
      "case = [1, 1, 1, 1, 0] cost = 29.0\n",
      "case = [0, 0, 0, 0, 1] cost = 29.0\n",
      "case = [1, 0, 0, 0, 1] cost = 27.0\n",
      "case = [0, 1, 0, 0, 1] cost = 47.0\n",
      "case = [1, 1, 0, 0, 1] cost = 15.0\n",
      "case = [0, 0, 1, 0, 1] cost = 35.0\n",
      "case = [1, 0, 1, 0, 1] cost = 33.0\n",
      "case = [0, 1, 1, 0, 1] cost = 47.0\n",
      "case = [1, 1, 1, 0, 1] cost = 15.0\n",
      "case = [0, 0, 0, 1, 1] cost = 20.0\n",
      "case = [1, 0, 0, 1, 1] cost = 18.0\n",
      "case = [0, 1, 0, 1, 1] cost = 38.0\n",
      "case = [1, 1, 0, 1, 1] cost = 6.0\n",
      "case = [0, 0, 1, 1, 1] cost = 20.0\n",
      "case = [1, 0, 1, 1, 1] cost = 18.0\n",
      "case = [0, 1, 1, 1, 1] cost = 32.0\n",
      "case = [1, 1, 1, 1, 1] cost = 0.0\n",
      "\n",
      "Best solution = [1, 0, 0, 1, 0] cost = 47.0\n"
     ]
    }
   ],
   "source": [
    "# Расчёт без квантового компьютера\n",
    "best_cost_brute = 0\n",
    "for b in range(2**n):\n",
    "    x = [int(t) for t in reversed(list(bin(b)[2:].zfill(n)))]\n",
    "    cost = 0\n",
    "    for i in range(n):\n",
    "        for j in range(n):\n",
    "            cost = cost + w[i,j]*x[i]*(1-x[j])\n",
    "    if best_cost_brute < cost:\n",
    "        best_cost_brute = cost\n",
    "        xbest_brute = x\n",
    "    print('case = ' + str(x)+ ' cost = ' + str(cost))\n",
    "\n",
    "print('\\nBest solution = ' + str(xbest_brute) + ' cost = ' + str(best_cost_brute))"
   ]
  },
  {
   "cell_type": "code",
   "execution_count": 6,
   "id": "f2eb8b03",
   "metadata": {},
   "outputs": [
    {
     "name": "stdout",
     "output_type": "stream",
     "text": [
      "[2021-10-24 16:52:57] Found solution in cache 0.0\n",
      "[0.0, 0.0, 1.0, 0.0, 0.0, 0.0, 0.0, 0.0, 0.0, 0.0, 0.0, 0.0, 0.0, 0.0, 0.0, 0.0, 1.0, 0.0, 0.0, 0.0, 0.0, 0.0, 0.0, 0.0, 1.0]\n"
     ]
    }
   ],
   "source": [
    "# QUBO matrix definition\n",
    "Q =[(0,1,0,0,1,1,750,0,0,750,1,0,0,0,0,1,0,0,0,0,1,850,0,0,850),\n",
    "(1,0,1,0,0,750,1,750,0,0,0,1,0,0,0,0,1,0,0,0,850,1,850,0,0),\n",
    "(0,1,0,1,0,0,750,1,750,0,0,0,1,0,0,0,0,1,0,0,0,850,1,850,0),\n",
    "(0,0,1,0,1,0,0,750,1,750,0,0,0,1,0,0,0,0,1,0,0,0,850,1,850),\n",
    "(1,0,0,1,0,750,0,0,750,1,0,0,0,0,1,0,0,0,0,1,850,0,0,850,1),\n",
    "(1,750,0,0,750,0,1,0,0,1,1,150,0,0,150,1,0,0,0,0,1,0,0,0,0),\n",
    "(750,1,750,0,0,1,0,1,0,0,150,1,150,0,0,0,1,0,0,0,0,1,0,0,0),\n",
    "(0,750,1,750,0,0,1,0,1,0,0,150,1,150,0,0,0,1,0,0,0,0,1,0,0),\n",
    "(0,0,750,1,750,0,0,1,0,1,0,0,150,1,150,0,0,0,1,0,0,0,0,1,0),\n",
    "(750,0,0,750,1,1,0,0,1,0,150,0,0,150,1,0,0,0,0,1,0,0,0,0,1),\n",
    "(0,0,0,0,0,1,850,0,0,850,0,1,0,0,1,1,150,0,0,150,1,0,0,0,0),\n",
    "(0,0,0,0,0,850,1,850,0,0,1,0,1,0,0,150,1,150,0,0,0,1,0,0,0),\n",
    "(0,0,0,0,0,0,850,1,850,0,0,1,0,1,0,0,150,1,150,0,0,0,1,0,0),\n",
    "(0,0,0,0,0,0,0,850,1,850,0,0,1,0,1,0,0,150,1,150,0,0,0,1,0),\n",
    "(0,0,0,0,0,850,0,0,850,1,1,0,0,1,0,150,0,0,150,1,0,0,0,0,1),\n",
    "(0,0,0,0,0,0,0,0,0,0,1,150,0,0,150,0,1,0,0,1,1,600,0,0,600),\n",
    "(0,0,0,0,0,0,0,0,0,0,150,1,150,0,0,1,0,1,0,0,600,1,600,0,0),\n",
    "(0,0,0,0,0,0,0,0,0,0,0,150,1,150,0,0,1,0,1,0,0,600,1,600,0),\n",
    "(0,0,0,0,0,0,0,0,0,0,0,0,150,1,150,0,0,1,0,1,0,0,600,1,600),\n",
    "(0,0,0,0,0,0,0,0,0,0,150,0,0,150,1,1,0,0,1,0,600,0,0,600,1),\n",
    "(1,850,0,0,850,0,0,0,0,0,0,0,0,0,0,1,600,0,0,600,0,1,0,0,1),\n",
    "(850,1,850,0,0,0,0,0,0,0,0,0,0,0,0,600,1,600,0,0,1,0,1,0,0),\n",
    "(0,850,1,850,0,0,0,0,0,0,0,0,0,0,0,0,600,1,600,0,0,1,0,1,0),\n",
    "(0,0,850,1,850,0,0,0,0,0,0,0,0,0,0,0,0,600,1,600,0,0,1,0,1),\n",
    "(850,0,0,850,1,0,0,0,0,0,0,0,0,0,0,600,0,0,600,1,1,0,0,1,0)]\n",
    "\n",
    "#Q = bqm \n",
    "#print('QUBO-матрица:',Q)\n",
    "\n",
    "# Getting results\n",
    "spins, energy = s.solve_qubo(Q, timeout=30)\n",
    "print(spins)"
   ]
  }
 ],
 "metadata": {
  "kernelspec": {
   "display_name": "Python 3 (ipykernel)",
   "language": "python",
   "name": "python3"
  },
  "language_info": {
   "codemirror_mode": {
    "name": "ipython",
    "version": 3
   },
   "file_extension": ".py",
   "mimetype": "text/x-python",
   "name": "python",
   "nbconvert_exporter": "python",
   "pygments_lexer": "ipython3",
   "version": "3.9.2"
  }
 },
 "nbformat": 4,
 "nbformat_minor": 5
}
